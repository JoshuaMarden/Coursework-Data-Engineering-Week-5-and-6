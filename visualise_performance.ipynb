{
 "cells": [
  {
   "cell_type": "markdown",
   "metadata": {},
   "source": [
    "### Visualises the performance log"
   ]
  },
  {
   "cell_type": "code",
   "execution_count": 2,
   "metadata": {},
   "outputs": [
    {
     "name": "stdout",
     "output_type": "stream",
     "text": [
      "snakeviz web server started on 127.0.0.1:8080; enter Ctrl-C to exit\n",
      "http://127.0.0.1:8080/snakeviz/%2FUsers%2Fjoshuasigma%2FDocuments%2FSigma%2FCoursework-Data-Engineering-Week-5-and-6%2Flogs%2Frefine_data.prof\n"
     ]
    }
   ],
   "source": [
    "import snakeviz\n",
    "import config as c\n",
    "\n",
    "PROFILE_FILE = f\"{c.LOG_DIR}/refine_data.prof\" \n",
    "\n",
    "!snakeviz {PROFILE_FILE}"
   ]
  }
 ],
 "metadata": {
  "kernelspec": {
   "display_name": ".venv",
   "language": "python",
   "name": "python3"
  },
  "language_info": {
   "codemirror_mode": {
    "name": "ipython",
    "version": 3
   },
   "file_extension": ".py",
   "mimetype": "text/x-python",
   "name": "python",
   "nbconvert_exporter": "python",
   "pygments_lexer": "ipython3",
   "version": "3.12.3"
  }
 },
 "nbformat": 4,
 "nbformat_minor": 2
}
